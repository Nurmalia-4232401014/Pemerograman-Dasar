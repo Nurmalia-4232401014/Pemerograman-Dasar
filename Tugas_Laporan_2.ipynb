{
  "nbformat": 4,
  "nbformat_minor": 0,
  "metadata": {
    "colab": {
      "provenance": [],
      "authorship_tag": "ABX9TyNA7hJzr243QRxksy701LA/",
      "include_colab_link": true
    },
    "kernelspec": {
      "name": "python3",
      "display_name": "Python 3"
    },
    "language_info": {
      "name": "python"
    }
  },
  "cells": [
    {
      "cell_type": "markdown",
      "metadata": {
        "id": "view-in-github",
        "colab_type": "text"
      },
      "source": [
        "<a href=\"https://colab.research.google.com/github/Nurmalia-4232401014/Pemerograman-Dasar/blob/main/Tugas_Laporan_2.ipynb\" target=\"_parent\"><img src=\"https://colab.research.google.com/assets/colab-badge.svg\" alt=\"Open In Colab\"/></a>"
      ]
    },
    {
      "cell_type": "code",
      "execution_count": 12,
      "metadata": {
        "colab": {
          "base_uri": "https://localhost:8080/"
        },
        "id": "rbRsmx5ud4Dr",
        "outputId": "39814562-74e9-408b-907b-b3f5b9644962"
      },
      "outputs": [
        {
          "output_type": "stream",
          "name": "stdout",
          "text": [
            "firstName     : Nurmalia\n",
            "LastName      : Lia\n",
            "Age           : 20\n",
            "IsMarried     : False\n"
          ]
        }
      ],
      "source": [
        "# TODO\n",
        "firstName = \"Nurmalia\"\n",
        "LastName  = \"Lia\"\n",
        "Age       = 20\n",
        "IsMarried = False\n",
        "\n",
        "print(\"firstName     :\", firstName )\n",
        "print(\"LastName      :\", LastName)\n",
        "print(\"Age           :\", Age)\n",
        "print(\"IsMarried     :\", IsMarried)"
      ]
    },
    {
      "cell_type": "code",
      "source": [
        "# TODO\n",
        "Data_Diri = {'FirstName':'Nurmalia', 'LastName':'lia','Age':'20',\n",
        "             'IsMarried':False}\n",
        "\n",
        "print(Data_Diri)"
      ],
      "metadata": {
        "colab": {
          "base_uri": "https://localhost:8080/"
        },
        "id": "SzEtWnidh3WD",
        "outputId": "9d078b2a-6b57-40ed-c451-ed5000023628"
      },
      "execution_count": 17,
      "outputs": [
        {
          "output_type": "stream",
          "name": "stdout",
          "text": [
            "{'FirstName': 'Nurmalia', 'LastName': 'lia', 'Age': '20', 'IsMarried': False}\n"
          ]
        }
      ]
    },
    {
      "cell_type": "code",
      "source": [
        "# TODO\n",
        "Daftar_Inspeksi = ['Pemahaman terhadap perencanaan dan desain',\n",
        "                   'Ketersedian bahan dan peralatan',\n",
        "                   'Pengawasan Pekerjaan',\n",
        "                   'Kualitas Kontruksi',\n",
        "                   'Keselamatan Kerja',\n",
        "                   'Koordinasi dengan pemilik proyek']\n",
        "\n",
        "print(Daftar_Inspeksi)\n",
        "for index, item in enumerate(Daftar_Inspeksi, start=1):\n",
        "  print(f\"{index}. {item}\")\n",
        ""
      ],
      "metadata": {
        "colab": {
          "base_uri": "https://localhost:8080/"
        },
        "id": "KnGUc454om09",
        "outputId": "2882c075-f090-436f-88b2-ad9a62dcc710"
      },
      "execution_count": 26,
      "outputs": [
        {
          "output_type": "stream",
          "name": "stdout",
          "text": [
            "['Pemahaman terhadap perencanaan dan desain', 'Ketersedian bahan dan peralatan', 'Pengawasan Pekerjaan', 'Kualitas Kontruksi', 'Keselamatan Kerja', 'Koordinasi dengan pemilik proyek']\n",
            "1. Pemahaman terhadap perencanaan dan desain\n",
            "2. Ketersedian bahan dan peralatan\n",
            "3. Pengawasan Pekerjaan\n",
            "4. Kualitas Kontruksi\n",
            "5. Keselamatan Kerja\n",
            "6. Koordinasi dengan pemilik proyek\n"
          ]
        }
      ]
    },
    {
      "cell_type": "code",
      "source": [
        "# START TIME\n",
        "Waktu_Datang ={'HH' : 9, 'MM' : 23, 'SS' : 57}\n",
        "Waktu_Pulang ={'HH' : 15, 'MM' : 25, 'SS' : 43}\n",
        "\n",
        "\n",
        "print(\"Waktu_Datang    :\", Waktu_Datang )\n",
        "print(\"Waktu_Pulang    :\", Waktu_Pulang )\n"
      ],
      "metadata": {
        "colab": {
          "base_uri": "https://localhost:8080/"
        },
        "id": "XRgAGX_Prdgr",
        "outputId": "96d6f404-13c0-4311-d1c6-91f7c5343ba5"
      },
      "execution_count": 28,
      "outputs": [
        {
          "output_type": "stream",
          "name": "stdout",
          "text": [
            "Waktu_Datang    : {'HH': 9, 'MM': 23, 'SS': 57}\n",
            "Waktu_Pulang    : {'HH': 15, 'MM': 25, 'SS': 43}\n"
          ]
        }
      ]
    },
    {
      "cell_type": "code",
      "source": [
        "from typing import Union\n",
        "# STUDI KASUS : PENGGABUNGAN DAN ANALISIS KATALOG PRODUK\n",
        "\n",
        "# Data Produk Dua Pemasok\n",
        "Katalog_A = {'Sanford', 'Aqua', 'Mindy', 'leMineral', 'Aquaviva'}\n",
        "Katalog_B = {'Sanford', 'Purelife', 'leMineral', 'Aquaviva', 'vit' }\n",
        "\n",
        "# Data Produk Diskon\n",
        "Produk_Diskon = {'Aquaviva', 'Sanford', 'Mindy'}\n",
        "\n",
        "# 1.Data Gabungan Dari Katalog A dan Katalog B\n",
        "Katalog_Lengkap = {'Sanford', 'Aqua', 'Mindy', 'leMineral', 'Purelife', 'Aquaviva', 'vit'}\n",
        "\n",
        "#2.Data Produk Katalog lengkap dan Produk Diskon\n",
        "Produk_Promo_Aktif = Katalog_Lengkap. intersection(Produk_Diskon)\n",
        "\n",
        "print(\"Katalog_A             :\", Katalog_A )\n",
        "print(\"Katalog_B             :\", Katalog_B )\n",
        "print(\"Produk_Diskon         :\", Produk_Diskon )\n",
        "print(\"Katalog_Lengkap       :\", Katalog_Lengkap )\n",
        "print(\"Produk_Promo_Aktif    :\", Produk_Promo_Aktif )\n"
      ],
      "metadata": {
        "colab": {
          "base_uri": "https://localhost:8080/"
        },
        "id": "Yfb9JWZ2wKQM",
        "outputId": "027fad5f-e75e-4054-803e-7cc9d8e0646b"
      },
      "execution_count": 34,
      "outputs": [
        {
          "output_type": "stream",
          "name": "stdout",
          "text": [
            "Katalog_A             : {'Aqua', 'Mindy', 'leMineral', 'Aquaviva', 'Sanford'}\n",
            "Katalog_B             : {'Purelife', 'leMineral', 'Aquaviva', 'vit', 'Sanford'}\n",
            "Produk_Diskon         : {'Aquaviva', 'Mindy', 'Sanford'}\n",
            "Katalog_Lengkap       : {'Purelife', 'Aqua', 'Mindy', 'leMineral', 'Aquaviva', 'vit', 'Sanford'}\n",
            "Produk_Promo_Aktif    : {'Aquaviva', 'Mindy', 'Sanford'}\n"
          ]
        }
      ]
    }
  ]
}