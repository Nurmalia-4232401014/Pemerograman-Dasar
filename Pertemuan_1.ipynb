{
  "nbformat": 4,
  "nbformat_minor": 0,
  "metadata": {
    "colab": {
      "provenance": [],
      "authorship_tag": "ABX9TyNj/gl7nnETxYKvzBfHDKTd",
      "include_colab_link": true
    },
    "kernelspec": {
      "name": "python3",
      "display_name": "Python 3"
    },
    "language_info": {
      "name": "python"
    }
  },
  "cells": [
    {
      "cell_type": "markdown",
      "metadata": {
        "id": "view-in-github",
        "colab_type": "text"
      },
      "source": [
        "<a href=\"https://colab.research.google.com/github/Nurmalia-4232401014/Pemerograman-Dasar/blob/main/Pertemuan_1.ipynb\" target=\"_parent\"><img src=\"https://colab.research.google.com/assets/colab-badge.svg\" alt=\"Open In Colab\"/></a>"
      ]
    },
    {
      "cell_type": "code",
      "execution_count": null,
      "metadata": {
        "colab": {
          "base_uri": "https://localhost:8080/"
        },
        "id": "dj0RnSVTfX5f",
        "outputId": "dbe5ae7d-e438-4730-de5f-75e497370d1a"
      },
      "outputs": [
        {
          "output_type": "stream",
          "name": "stdout",
          "text": [
            "- Biodata Saya -\n",
            "nama            : Nurmalia\n",
            "nim             : 4232401014\n",
            "tempat_lahir    : sungai pimping\n",
            "tanggal_lahir   : 22 januari 2005\n",
            "umur            : 20\n",
            "jurusan         : teknik elektro\n",
            "prodi           : RPE\n",
            "semester        : 3\n",
            "matakuliah      : pemerograman Dasar\n",
            "nomor_telepon   : 082166733775\n",
            "status_lulus    : False\n"
          ]
        }
      ],
      "source": [
        "from typing_extensions import Type\n",
        "# Biodata Saya\n",
        "\n",
        "nama = \"Nurmalia\"\n",
        "nim = \"4232401014\"\n",
        "tempat_lahir = 'sungai pimping'\n",
        "tanggal_lahir = \"22 januari 2005\"\n",
        "umur = 20\n",
        "jurusan = \"teknik elektro\"\n",
        "prodi = \"RPE\"\n",
        "semester = 3\n",
        "matakuliah = 'pemerograman Dasar'\n",
        "nomor_telepon = \"082166733775\"\n",
        "status_lulus = False\n",
        "\n",
        "\n",
        "print (\"- Biodata Saya -\")\n",
        "print (\"nama            :\",nama)\n",
        "print (\"nim             :\",nim)\n",
        "print (\"tempat_lahir    :\",tempat_lahir)\n",
        "print (\"tanggal_lahir   :\",tanggal_lahir)\n",
        "print (\"umur            :\",umur)\n",
        "print (\"jurusan         :\",jurusan)\n",
        "print (\"prodi           :\",prodi)\n",
        "print (\"semester        :\",semester)\n",
        "print (\"matakuliah      :\",matakuliah)\n",
        "print (\"nomor_telepon   :\",nomor_telepon)\n",
        "print (\"status_lulus    :\",status_lulus)\n"
      ]
    }
  ]
}