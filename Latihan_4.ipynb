{
  "nbformat": 4,
  "nbformat_minor": 0,
  "metadata": {
    "colab": {
      "provenance": [],
      "authorship_tag": "ABX9TyNmgOgbLRRf3DemASZlKo1n",
      "include_colab_link": true
    },
    "kernelspec": {
      "name": "python3",
      "display_name": "Python 3"
    },
    "language_info": {
      "name": "python"
    }
  },
  "cells": [
    {
      "cell_type": "markdown",
      "metadata": {
        "id": "view-in-github",
        "colab_type": "text"
      },
      "source": [
        "<a href=\"https://colab.research.google.com/github/Nurmalia-4232401014/Pemerograman-Dasar/blob/main/Latihan_4.ipynb\" target=\"_parent\"><img src=\"https://colab.research.google.com/assets/colab-badge.svg\" alt=\"Open In Colab\"/></a>"
      ]
    },
    {
      "cell_type": "code",
      "execution_count": null,
      "metadata": {
        "id": "ew2ajNPRvv10",
        "colab": {
          "base_uri": "https://localhost:8080/"
        },
        "outputId": "cd806e26-6d5b-4219-b83b-755800d5e4b7"
      },
      "outputs": [
        {
          "output_type": "stream",
          "name": "stdout",
          "text": [
            "Masukkan angka: 15\n",
            "kelipatan 5\n",
            "Masukkan angka: 8\n",
            "Bukan kelipatan 5\n"
          ]
        }
      ],
      "source": [
        "# Kelipatan 5\n",
        "angka = int(input(\"Masukkan angka: \"))\n",
        "if angka % 5 == 0:\n",
        "  print(\"kelipatan 5\")\n",
        "else:\n",
        "  print(\"Bukan kelipatan 5\")\n",
        "\n",
        "angka = int(input(\"Masukkan angka: \"))\n",
        "if angka % 5 == 0:\n",
        "  print(\"kelipatan 5\")\n",
        "else:\n",
        "  print(\"Bukan kelipatan 5\")"
      ]
    },
    {
      "cell_type": "code",
      "source": [
        "# Menentukan Tahun Kabisat\n",
        "tahun = int(input(\"Masukkan tahun:\"))\n",
        "if tahun % 400 == 0:\n",
        "  print(\"Tahun kabisat\")\n",
        "elif tahun % 4 == 0 and tahun % 100 !=0:\n",
        "  print(\"Tahun kabisat\")\n",
        "else:\n",
        "  print(\"Bukan tahun kabisat\")\n",
        "\n",
        "tahun = int(input(\"Masukkan tahun:\"))\n",
        "if tahun % 400 == 0:\n",
        "  print(\"Tahun kabisat\")\n",
        "elif tahun % 4 == 0 and tahun % 100 !=0:\n",
        "  print(\"Tahun kabisat\")\n",
        "else:\n",
        "  print(\"Bukan tahun kabisat\")"
      ],
      "metadata": {
        "colab": {
          "base_uri": "https://localhost:8080/"
        },
        "id": "0xLHL-Si8WsU",
        "outputId": "3e548743-742f-441c-852b-5e77570da26a"
      },
      "execution_count": null,
      "outputs": [
        {
          "output_type": "stream",
          "name": "stdout",
          "text": [
            "Masukkan tahun:2024\n",
            "Tahun kabisat\n",
            "Masukkan tahun:2025\n",
            "Bukan tahun kabisat\n"
          ]
        }
      ]
    },
    {
      "cell_type": "code",
      "source": [
        "# Soal Matematika\n",
        "a = int(input(\"Masukkan angka pertama:\"))\n",
        "b = int(input(\"Masukkan angka Kedua  :\"))\n",
        "c = int(input(\"Masukkan angka ketiga :\"))\n",
        "\n",
        "hasil = a + c * b\n",
        "print(\"Hasil dari perhitungan diatas= \", hasil)\n",
        "if hasil > 100 == 0:\n",
        "  print(\"Hasil lebih dari 10 \")\n",
        "else:\n",
        "  print(\"Hasil kurang dari 10\")"
      ],
      "metadata": {
        "colab": {
          "base_uri": "https://localhost:8080/"
        },
        "id": "rwBAehE69yES",
        "outputId": "11d1bd3c-2923-4062-97ac-ed1ec2f136a9"
      },
      "execution_count": null,
      "outputs": [
        {
          "output_type": "stream",
          "name": "stdout",
          "text": [
            "Masukkan angka pertama:2\n",
            "Masukkan angka Kedua  :2\n",
            "Masukkan angka ketiga :2\n",
            "Hasil dari perhitungan diatas=  6\n",
            "Hasil kurang dari 10\n"
          ]
        }
      ]
    },
    {
      "cell_type": "code",
      "source": [
        "# Input Bulan\n",
        "bulan = int(input(\"Masukkan angka bulan (1-12): \"))\n",
        "if bulan == 1:\n",
        "  print(\"Januari\")\n",
        "elif bulan == 2:\n",
        "  print(\"Februari\")\n",
        "elif bulan == 3:\n",
        "  print(\"Maret\")\n",
        "elif bulan == 4:\n",
        "  print(\"April\")\n",
        "elif bulan == 5:\n",
        "  print(\"Mei\")\n",
        "elif bulan == 6:\n",
        "  print(\"Juni\")\n",
        "elif bulan == 7:\n",
        "  print(\"Juli\")\n",
        "elif bulan == 8:\n",
        "  print(\"Agustus\")\n",
        "elif bulan == 9:\n",
        "  print(\"September\")\n",
        "  print(\"Oktober\")\n",
        "elif bulan == 10:\n",
        "  print(\"Oktober\")\n",
        "elif bulan == 11:\n",
        "  print(\"November\")\n",
        "elif bulan == 12:\n",
        "  print(\"Desember\")\n",
        "else:\n",
        "  print(\"Input Salah\")\n"
      ],
      "metadata": {
        "colab": {
          "base_uri": "https://localhost:8080/"
        },
        "id": "TspZgjD_Aq7b",
        "outputId": "4c37e51f-c1da-4c4b-97d2-abc72555f21b"
      },
      "execution_count": null,
      "outputs": [
        {
          "output_type": "stream",
          "name": "stdout",
          "text": [
            "Masukkan angka bulan (1-12): 1\n",
            "Januari\n"
          ]
        }
      ]
    },
    {
      "cell_type": "code",
      "source": [
        "# Salam Sesuai Jam\n",
        "jam = int(input(\"Masukkan jam (0-23):\"))\n",
        "if 0 <= jam <= 11:\n",
        "  print(\"Selamat Pagi\")\n",
        "elif 12 <= jam <= 15:\n",
        "  print(\"Selamat Siang\")\n",
        "elif 16 <= jam <= 18:\n",
        "  print(\"Selamat Sore\")\n",
        "elif 19 <= jam <= 23:\n",
        "  print(\"Selamat Malam\")\n",
        "else:\n",
        "  print(\"Input Salah\")"
      ],
      "metadata": {
        "colab": {
          "base_uri": "https://localhost:8080/"
        },
        "id": "uHb6-L6VCOkp",
        "outputId": "1ff1f11f-b662-4803-b842-ae6ac27a6603"
      },
      "execution_count": null,
      "outputs": [
        {
          "output_type": "stream",
          "name": "stdout",
          "text": [
            "Masukkan jam (0-23):5\n",
            "Selamat Pagi\n"
          ]
        }
      ]
    }
  ]
}