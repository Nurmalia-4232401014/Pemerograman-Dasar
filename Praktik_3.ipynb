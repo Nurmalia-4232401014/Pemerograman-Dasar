{
  "nbformat": 4,
  "nbformat_minor": 0,
  "metadata": {
    "colab": {
      "provenance": [],
      "authorship_tag": "ABX9TyOw67J1ZXTQ//5WSmt7h9Xk",
      "include_colab_link": true
    },
    "kernelspec": {
      "name": "python3",
      "display_name": "Python 3"
    },
    "language_info": {
      "name": "python"
    }
  },
  "cells": [
    {
      "cell_type": "markdown",
      "metadata": {
        "id": "view-in-github",
        "colab_type": "text"
      },
      "source": [
        "<a href=\"https://colab.research.google.com/github/Nurmalia-4232401014/Pemerograman-Dasar/blob/main/Praktik_3.ipynb\" target=\"_parent\"><img src=\"https://colab.research.google.com/assets/colab-badge.svg\" alt=\"Open In Colab\"/></a>"
      ]
    },
    {
      "cell_type": "code",
      "execution_count": 4,
      "metadata": {
        "colab": {
          "base_uri": "https://localhost:8080/"
        },
        "id": "B4SX29Epi9qQ",
        "outputId": "d3982d5b-4cbe-4535-9b31-7fd74065ea3b"
      },
      "outputs": [
        {
          "name": "stdout",
          "output_type": "stream",
          "text": [
            "berapa porsi makan yang anda beli? :1.5\n",
            "siapa nama pelanggan? :Nurmalia\n"
          ]
        }
      ],
      "source": [
        "# input dan output\n",
        "total = float(input(\"berapa porsi makan yang anda beli? :))\n",
        "nama = str(input(\"siapa nama pelanggan? :\"))"
      ]
    },
    {
      "cell_type": "code",
      "source": [
        "# input output\n",
        "food = \"dimsum\"\n",
        "jumlah = 2\n",
        "isi = 6\n",
        "harga = 15\n",
        "buka_pukul = 4\n",
        "\n",
        "print(\"lia sedang memesan %s\" % food)\n",
        "print(\"jumlah dimsum yang di beli %d porsi\" % jumlah)\n",
        "print(\"harga 2 dimsum yaitu %.3f\" % harga)\n",
        "print(\"satu porsi berisi %o pcs\" % isi)\n",
        "print(\"toko buka di jam %x sore\" % buka_pukul)"
      ],
      "metadata": {
        "colab": {
          "base_uri": "https://localhost:8080/"
        },
        "id": "Nm11osmbjYG0",
        "outputId": "e10c8098-dcff-4b05-ac79-8a9e8cbe501f"
      },
      "execution_count": null,
      "outputs": [
        {
          "output_type": "stream",
          "name": "stdout",
          "text": [
            "lia sedang memesan dimsum\n",
            "jumlah dimsum yang di beli 2 porsi\n",
            "harga 2 dimsum yaitu 15.000\n",
            "satu porsi berisi 6 pcs\n",
            "toko buka di jam 4 sore\n"
          ]
        }
      ]
    },
    {
      "cell_type": "code",
      "source": [
        "# kalkulator sederhana\n",
        "dimsum_mentai = 18000\n",
        "dimsum_wortel = 15000\n",
        "\n",
        "print(\"harga dimsum mentai dan dimsum wortel : \", dimsum_mentai + dimsum_wortel)\n",
        "print(\"selisih harga dari kedua jenis dimsum adalah :\",dimsum_mentai - dimsum_wortel )\n",
        "print(\"harga dua dimsum mentai :\", dimsum_mentai * 2)\n",
        "print(\"pembagian :\", dimsum_mentai / dimsum_wortel)"
      ],
      "metadata": {
        "colab": {
          "base_uri": "https://localhost:8080/"
        },
        "id": "stV_wIeusYvH",
        "outputId": "a5a1e10c-460a-4f51-8268-56548ed4e40f"
      },
      "execution_count": null,
      "outputs": [
        {
          "output_type": "stream",
          "name": "stdout",
          "text": [
            "harga dimsum mentai dan dimsum wortel :  33000\n",
            "selisih harga dari kedua jenis dimsum adalah : 3000\n",
            "harga dua dimsum mentai : 36000\n",
            "pembagian : 1.2\n"
          ]
        }
      ]
    },
    {
      "cell_type": "code",
      "source": [
        "# Kalkulator kasir\n",
        "harga_dimsum = int(input(\"berapa harga dimsum per porsi? \"))\n",
        "jumlah_dimsum = int(input(\"berapa porsi yang anda beli? \"))\n",
        "total_dimsum = harga_dimsum * jumlah_dimsum\n",
        "print(f\"harga makan per porsi = {harga_dimsum}, totalnya adalah {total_dimsum} \")\n"
      ],
      "metadata": {
        "id": "hvM7rBhrvf-6",
        "colab": {
          "base_uri": "https://localhost:8080/"
        },
        "outputId": "a6e61cb3-3194-455f-95f2-7cf0394bc5ef"
      },
      "execution_count": null,
      "outputs": [
        {
          "output_type": "stream",
          "name": "stdout",
          "text": [
            "berapa harga dimsum per porsi? 15000\n",
            "berapa porsi yang anda beli? 2\n",
            "harga makan per porsi = 15000, totalnya adalah 30000 \n"
          ]
        }
      ]
    },
    {
      "cell_type": "code",
      "source": [
        "# Mengecek bilangan\n",
        "dimsum = 8\n",
        "hasil = (dimsum > 0) and (dimsum %  2 -- 0)\n",
        "print(\"genap dan positif?\", hasil)"
      ],
      "metadata": {
        "id": "Do7St3FBxW1m",
        "colab": {
          "base_uri": "https://localhost:8080/"
        },
        "outputId": "b2b6b50f-483a-4513-e447-87b2249cc6a2"
      },
      "execution_count": null,
      "outputs": [
        {
          "output_type": "stream",
          "name": "stdout",
          "text": [
            "genap dan positif? 0\n"
          ]
        }
      ]
    },
    {
      "cell_type": "code",
      "source": [
        "# Ekspresi\n",
        "\n",
        "# koversi waktu\n",
        "total_detik = int(input(\"total_detik:\"))\n",
        "jam = total_detik // 3600\n",
        "sisa_detik = total_detik % 3600\n",
        "menit = sisa_detik // 6\n",
        "detik = sisa_detik % 60\n",
        "print(f\"hasil konversi: {jam} jam, {menit} menit, {detik} detik\")"
      ],
      "metadata": {
        "colab": {
          "base_uri": "https://localhost:8080/"
        },
        "id": "rxoSkNbgmRE5",
        "outputId": "24e15db7-d239-4761-d5f8-dd29ddfa5352"
      },
      "execution_count": null,
      "outputs": [
        {
          "output_type": "stream",
          "name": "stdout",
          "text": [
            "total_detik:358200\n",
            "hasil konversi: 99 jam, 300 menit, 0 detik\n"
          ]
        }
      ]
    },
    {
      "cell_type": "code",
      "source": [
        "# nilai mahasiswa\n",
        "plc = int(input(\"nilai plc             : \"))\n",
        "mekanika_fluida = int(input(\"nilai mekanika fluida : \"))\n",
        "daspro = int(input(\"nilai daspro          : \"))\n",
        "ppkn = int(input(\"nilai ppkn            : \"))\n",
        "kimia = int(input(\"nilai kimia           : \"))\n",
        "nilai_mahasiswa = (plc + mekanika_fluida + daspro + ppkn + kimia) / 5\n",
        "standar_kelulusan = int(input(\"standar_kelulusan     : \"))\n",
        "apakah_lulus = (nilai_mahasiswa >= standar_kelulusan)\n",
        "perlu_remedial = (nilai_mahasiswa < standar_kelulusan)\n",
        "\n",
        "print(f\"Nilai Mahasiswa            : {nilai_mahasiswa}\")\n",
        "print(f\"Standar Kelulusan          : {standar_kelulusan} \")\n",
        "print(f\"Apakah Mahasiswa Lulus     : {apakah_lulus}\")\n",
        "print(f\"Perlu Remedial             : {perlu_remedial}\")"
      ],
      "metadata": {
        "colab": {
          "base_uri": "https://localhost:8080/"
        },
        "id": "aonP4D1XyAVG",
        "outputId": "62837691-cfad-44c9-c468-6dd83d6b47e7"
      },
      "execution_count": null,
      "outputs": [
        {
          "output_type": "stream",
          "name": "stdout",
          "text": [
            "nilai plc             : 90\n",
            "nilai mekanika fluida : 90\n",
            "nilai daspro          : 90\n",
            "nilai ppkn            : 90\n",
            "nilai kimia           : 90\n",
            "standar_kelulusan     : 70\n",
            "Nilai Mahasiswa            : 90.0\n",
            "Standar Kelulusan          : 70 \n",
            "Apakah Mahasiswa Lulus     : True\n",
            "Perlu Remedial             : False\n"
          ]
        }
      ]
    },
    {
      "cell_type": "code",
      "source": [
        "belanja_dimsum = int(input(\"masukkan total belanja :\"))\n",
        "diskon = (0, 0.35 * belanja_dimsum)[belanja_dimsum > 1000000]\n",
        "total_harga = belanja_dimsum - diskon\n",
        "\n",
        "print(\"total harga setelah diskon =\", total_harga)"
      ],
      "metadata": {
        "colab": {
          "base_uri": "https://localhost:8080/"
        },
        "id": "eXVIUV6_7Ztq",
        "outputId": "5cb918e4-48a8-4c99-87f8-ff04b2ea527a"
      },
      "execution_count": null,
      "outputs": [
        {
          "output_type": "stream",
          "name": "stdout",
          "text": [
            "masukkan total belanja :2000000\n",
            "total harga setelah diskon = 1300000.0\n"
          ]
        }
      ]
    }
  ]
}