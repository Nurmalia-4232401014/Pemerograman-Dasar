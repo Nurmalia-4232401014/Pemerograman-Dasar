{
  "nbformat": 4,
  "nbformat_minor": 0,
  "metadata": {
    "colab": {
      "provenance": [],
      "authorship_tag": "ABX9TyMeF6rXRoYrku1ofMHtoUYh",
      "include_colab_link": true
    },
    "kernelspec": {
      "name": "python3",
      "display_name": "Python 3"
    },
    "language_info": {
      "name": "python"
    }
  },
  "cells": [
    {
      "cell_type": "markdown",
      "metadata": {
        "id": "view-in-github",
        "colab_type": "text"
      },
      "source": [
        "<a href=\"https://colab.research.google.com/github/Nurmalia-4232401014/Pemerograman-Dasar/blob/main/Latihan_MP.ipynb\" target=\"_parent\"><img src=\"https://colab.research.google.com/assets/colab-badge.svg\" alt=\"Open In Colab\"/></a>"
      ]
    },
    {
      "cell_type": "code",
      "source": [
        "# SOAL 1: Fungsi Inisialisasi Sederhana\n",
        "def biodata():\n",
        "    \"\"\"Menampilkan biodata lengkap praktikan.\"\"\"\n",
        "    # Data pribadi\n",
        "    nama = \"Nurmalia\"\n",
        "    nim = \"4232401014\"\n",
        "    tempat_lahir = \"Sungai Pimping\"\n",
        "    tanggal_lahir = \"22 Januari 2005\"\n",
        "    umur = 20\n",
        "    jurusan = \"Teknik Elektro\"\n",
        "    prodi = \"RPE\"\n",
        "    semester = 3\n",
        "    matakuliah = \"Pemrograman Dasar\"\n",
        "    nomor_telepon = \"082166733775\"\n",
        "    status_lulus = False\n",
        "\n",
        "    # Tampilkan hasil biodata\n",
        "    print(\"\\n- BIODATA SAYA -\")\n",
        "    print(\"Nama            :\", nama)\n",
        "    print(\"NIM             :\", nim)\n",
        "    print(\"Tempat Lahir    :\", tempat_lahir)\n",
        "    print(\"Tanggal Lahir   :\", tanggal_lahir)\n",
        "    print(\"Umur            :\", umur)\n",
        "    print(\"Jurusan         :\", jurusan)\n",
        "    print(\"Prodi           :\", prodi)\n",
        "    print(\"Semester        :\", semester)\n",
        "    print(\"Mata Kuliah     :\", matakuliah)\n",
        "    print(\"Nomor Telepon   :\", nomor_telepon)\n",
        "    print(\"Status Lulus    :\", status_lulus)\n",
        "\n",
        "# Pemanggilan fungsi biodata\n",
        "biodata()"
      ],
      "metadata": {
        "colab": {
          "base_uri": "https://localhost:8080/"
        },
        "id": "NBlgrpI_C5JI",
        "outputId": "46b6dbbb-ef2c-48ac-f8e0-fda1338e3beb"
      },
      "execution_count": 7,
      "outputs": [
        {
          "output_type": "stream",
          "name": "stdout",
          "text": [
            "\n",
            "- BIODATA SAYA -\n",
            "Nama            : Nurmalia\n",
            "NIM             : 4232401014\n",
            "Tempat Lahir    : Sungai Pimping\n",
            "Tanggal Lahir   : 22 Januari 2005\n",
            "Umur            : 20\n",
            "Jurusan         : Teknik Elektro\n",
            "Prodi           : RPE\n",
            "Semester        : 3\n",
            "Mata Kuliah     : Pemrograman Dasar\n",
            "Nomor Telepon   : 082166733775\n",
            "Status Lulus    : False\n"
          ]
        }
      ]
    },
    {
      "cell_type": "code",
      "source": [
        "# SOAL 2: Menghitung Volume Kubus\n",
        "def hitung_volume_balok(panjang, lebar, tinggi):\n",
        "    \"\"\"Menghitung volume balok dari panjang, lebar, dan tinggi.\"\"\"\n",
        "    return panjang * lebar * tinggi\n",
        "\n",
        "# Pemanggilan:\n",
        "p = 8\n",
        "l = 5\n",
        "t = 1\n",
        "print(f\"Volume balok dengan ukuran {p} x {l} x {t} adalah: {hitung_volume_balok(p, l, t)}\")\n"
      ],
      "metadata": {
        "colab": {
          "base_uri": "https://localhost:8080/"
        },
        "id": "wJAHMx9S53tR",
        "outputId": "7a945b49-a1d8-46a4-a69b-afc606830210"
      },
      "execution_count": 6,
      "outputs": [
        {
          "output_type": "stream",
          "name": "stdout",
          "text": [
            "Volume balok dengan ukuran 8 x 5 x 1 adalah: 40\n"
          ]
        }
      ]
    },
    {
      "cell_type": "code",
      "source": [
        "# SOAL 3: Menghitung Rata-rata dari List Nilai\n",
        "def hitung_rata_rata(data_nilai):\n",
        "    \"\"\"Menghitung rata-rata dari list angka menggunakan perulangan for.\"\"\"\n",
        "    total = 0\n",
        "    jumlah_valid = 0\n",
        "\n",
        "    # Perulangan untuk menjumlahkan nilai\n",
        "    for nilai in data_nilai:\n",
        "        if 0 <= nilai <= 100:\n",
        "            total += nilai\n",
        "            jumlah_valid += 1\n",
        "        else:\n",
        "            print(f\"Nilai {nilai} diabaikan (tidak valid).\")\n",
        "\n",
        "    # Pembagian untuk rata-rata\n",
        "    if jumlah_valid > 0:\n",
        "        return total / jumlah_valid\n",
        "    return 0\n",
        "\n",
        "\n",
        "# Pemanggilan:\n",
        "nilai_praktikan = [85, 78, 92, 65, 90]\n",
        "print(f\"Nilai rata-rata kelas adalah: {hitung_rata_rata(nilai_praktikan)}\")\n",
        "\n",
        "nilai_tidak_valid = [90, 105, -10, 80]\n",
        "print(f\"Nilai rata-rata (setelah pengecekan) adalah: {hitung_rata_rata(nilai_tidak_valid)}\")\n"
      ],
      "metadata": {
        "colab": {
          "base_uri": "https://localhost:8080/"
        },
        "id": "SZF0RafU33fI",
        "outputId": "76736a41-cd2d-42f1-ac6d-0ff7e774fb9a"
      },
      "execution_count": 5,
      "outputs": [
        {
          "output_type": "stream",
          "name": "stdout",
          "text": [
            "Nilai rata-rata kelas adalah: 82.0\n",
            "Nilai 105 diabaikan (tidak valid).\n",
            "Nilai -10 diabaikan (tidak valid).\n",
            "Nilai rata-rata (setelah pengecekan) adalah: 85.0\n"
          ]
        }
      ]
    },
    {
      "cell_type": "code",
      "source": [
        "# SOAL 4: Sistem Penentuan Predikat Nilai\n",
        "def tentukan_predikat(skor):\n",
        "    \"\"\"Menentukan predikat (A, B, C, D, E) berdasarkan skor.\"\"\"\n",
        "    if not isinstance(skor, (int, float)):\n",
        "        return \"Input tidak valid! Harus berupa angka.\"\n",
        "\n",
        "    if skor >= 85:\n",
        "        return \"A\"\n",
        "    elif skor >= 70:\n",
        "        return \"B\"\n",
        "    elif skor >= 60:\n",
        "        return \"C\"\n",
        "    elif skor >= 50:\n",
        "        return \"D\"\n",
        "    else:\n",
        "        return \"E\"\n",
        "\n",
        "# Pemanggilan:\n",
        "print(f\"Skor 75 mendapat predikat: {tentukan_predikat(75)}\")\n",
        "print(f\"Skor 48 mendapat predikat: {tentukan_predikat(48)}\")\n",
        "print(f\"Skor 'abc' mendapat predikat: {tentukan_predikat('abc')}\")\n"
      ],
      "metadata": {
        "colab": {
          "base_uri": "https://localhost:8080/"
        },
        "id": "mxPL7S_tEiZ-",
        "outputId": "a8f07886-51f1-41d8-bce9-dcb3e02ba526"
      },
      "execution_count": 4,
      "outputs": [
        {
          "output_type": "stream",
          "name": "stdout",
          "text": [
            "Skor 75 mendapat predikat: B\n",
            "Skor 48 mendapat predikat: E\n",
            "Skor 'abc' mendapat predikat: Input tidak valid! Harus berupa angka.\n"
          ]
        }
      ]
    },
    {
      "cell_type": "code",
      "source": [
        "# SOAL 5: Menghitung Faktorial dengan Loop While\n",
        "def hitung_faktorial(n):\n",
        "    \"\"\"Menghitung faktorial dari bilangan positif n.\"\"\"\n",
        "\n",
        "    if not isinstance(n, int):\n",
        "        return \"Input harus berupa bilangan bulat!\"\n",
        "    if n < 0:\n",
        "        return \"Faktorial tidak terdefinisi untuk bilangan negatif.\"\n",
        "    if n == 0:\n",
        "        return 1  # Secara definisi, 0! = 1\n",
        "\n",
        "    hasil = 1\n",
        "    # Perulangan berjalan selama n lebih besar dari 1\n",
        "    while n > 1:\n",
        "        hasil *= n\n",
        "        n -= 1  # kurangi n\n",
        "    return hasil\n",
        "\n",
        "\n",
        "# Pemanggilan:\n",
        "bilangan_n = 4\n",
        "print(f\"Faktorial dari {bilangan_n} adalah: {hitung_faktorial(bilangan_n)}\")\n",
        "print(f\"Faktorial dari 0 adalah: {hitung_faktorial(0)}\")\n",
        "print(f\"Faktorial dari -3 adalah: {hitung_faktorial(-3)}\")\n"
      ],
      "metadata": {
        "colab": {
          "base_uri": "https://localhost:8080/"
        },
        "id": "_njF9iGzC32J",
        "outputId": "de65507e-0230-485c-8997-94c7b97ff5e3"
      },
      "execution_count": 3,
      "outputs": [
        {
          "output_type": "stream",
          "name": "stdout",
          "text": [
            "Faktorial dari 4 adalah: 24\n",
            "Faktorial dari 0 adalah: 1\n",
            "Faktorial dari -3 adalah: Faktorial tidak terdefinisi untuk bilangan negatif.\n"
          ]
        }
      ]
    },
    {
      "cell_type": "code",
      "source": [
        "# SOAL 6: Analisis Data Suhu Ekstrem (for dan if/elif)\n",
        "def analisis_suhu(data_suhu, batas_panas=35, batas_dingin=15):\n",
        "    \"\"\"Menghitung jumlah hari Panas dan Dingin dari data_suhu.\"\"\"\n",
        "    panas_count = 0\n",
        "    dingin_count = 0\n",
        "\n",
        "    for suhu in data_suhu:\n",
        "        if suhu >= batas_panas:\n",
        "            panas_count += 1\n",
        "        elif suhu <= batas_dingin:\n",
        "            dingin_count += 1\n",
        "\n",
        "    return panas_count, dingin_count\n",
        "\n",
        "\n",
        "# Pemanggilan :\n",
        "suhu_mingguan = [36, 30, 14, 25, 38, 16, 28]\n",
        "jumlah_panas, jumlah_dingin = analisis_suhu(suhu_mingguan)\n",
        "\n",
        "print(f\"Jumlah hari Panas (>=35°C): {jumlah_panas}\")\n",
        "print(f\"Jumlah hari Dingin (<=15°C): {jumlah_dingin}\")\n"
      ],
      "metadata": {
        "colab": {
          "base_uri": "https://localhost:8080/"
        },
        "id": "sirAlDKxK5-T",
        "outputId": "d5ce4a2b-2afc-4487-8037-8c645a7375b4"
      },
      "execution_count": 1,
      "outputs": [
        {
          "output_type": "stream",
          "name": "stdout",
          "text": [
            "Jumlah hari Panas (>=35°C): 2\n",
            "Jumlah hari Dingin (<=15°C): 1\n"
          ]
        }
      ]
    }
  ]
}