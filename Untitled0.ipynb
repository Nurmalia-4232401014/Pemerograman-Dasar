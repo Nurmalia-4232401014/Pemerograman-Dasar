{
  "nbformat": 4,
  "nbformat_minor": 0,
  "metadata": {
    "colab": {
      "provenance": [],
      "authorship_tag": "ABX9TyPTpcloAQjNY/kAE9iXk8P6",
      "include_colab_link": true
    },
    "kernelspec": {
      "name": "python3",
      "display_name": "Python 3"
    },
    "language_info": {
      "name": "python"
    }
  },
  "cells": [
    {
      "cell_type": "markdown",
      "metadata": {
        "id": "view-in-github",
        "colab_type": "text"
      },
      "source": [
        "<a href=\"https://colab.research.google.com/github/Nurmalia-4232401014/Pemerograman-Dasar/blob/main/Untitled0.ipynb\" target=\"_parent\"><img src=\"https://colab.research.google.com/assets/colab-badge.svg\" alt=\"Open In Colab\"/></a>"
      ]
    },
    {
      "cell_type": "code",
      "execution_count": 2,
      "metadata": {
        "colab": {
          "base_uri": "https://localhost:8080/"
        },
        "id": "dj0RnSVTfX5f",
        "outputId": "c5ca76c0-6b66-44dd-8376-451c8d48246e"
      },
      "outputs": [
        {
          "output_type": "stream",
          "name": "stdout",
          "text": [
            "Nurmalia\n",
            "20\n",
            "RPE\n",
            "3\n",
            "pemerograman Dasar\n",
            "False\n"
          ]
        }
      ],
      "source": [
        "# Biodata Saya\n",
        "\n",
        "nama = \"Nurmalia\"\n",
        "umur = 20\n",
        "jurusan = \"RPE\"\n",
        "semester = 3\n",
        "matakuliah = 'pemerograman Dasar'\n",
        "status_lulus = False\n",
        "\n",
        "\n",
        "print (nama)\n",
        "print (umur)\n",
        "print (jurusan)\n",
        "print (semester)\n",
        "print (matakuliah)\n",
        "print (status_lulus)\n",
        "\n",
        "\n",
        "\n"
      ]
    }
  ]
}