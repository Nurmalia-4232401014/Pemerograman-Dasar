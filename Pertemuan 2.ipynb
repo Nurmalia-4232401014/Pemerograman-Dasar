{
  "nbformat": 4,
  "nbformat_minor": 0,
  "metadata": {
    "colab": {
      "provenance": [],
      "authorship_tag": "ABX9TyOoRgTKoyoeo8Q8tcvSgD2b",
      "include_colab_link": true
    },
    "kernelspec": {
      "name": "python3",
      "display_name": "Python 3"
    },
    "language_info": {
      "name": "python"
    }
  },
  "cells": [
    {
      "cell_type": "markdown",
      "metadata": {
        "id": "view-in-github",
        "colab_type": "text"
      },
      "source": [
        "<a href=\"https://colab.research.google.com/github/Nurmalia-4232401014/Pemerograman-Dasar/blob/main/Pertemuan%202.ipynb\" target=\"_parent\"><img src=\"https://colab.research.google.com/assets/colab-badge.svg\" alt=\"Open In Colab\"/></a>"
      ]
    },
    {
      "cell_type": "code",
      "execution_count": 11,
      "metadata": {
        "colab": {
          "base_uri": "https://localhost:8080/"
        },
        "id": "ckuKLXSyapiZ",
        "outputId": "1060fea8-3d38-4885-8ee9-6087450ced06"
      },
      "outputs": [
        {
          "output_type": "stream",
          "name": "stdout",
          "text": [
            "- Biodata Saya -\n",
            "nama                  : Nurmalia\n",
            "nim                   : 4232401014\n",
            "tempat_tanggallahir   : ('22 Januari 2005', 'Sungai Pimping')\n",
            "umur                  : 20\n",
            "jurusan               : teknik elektro\n",
            "prodi                 : RPE\n",
            "semester              : 3\n",
            "matakuliah            : ['Pemrograman Dasar', 'Matematika Teknik', 'Termodinamika']\n",
            "nomor_telepon         : 082166733775\n",
            "hobi                  : {'Membaca', 'tidur', 'Menulis'}\n"
          ]
        }
      ],
      "source": [
        "# Dictionary, Menyimpan Data Utama Biodata\n",
        "nama = \"Nurmalia\"\n",
        "nim = \"4232401014\"\n",
        "umur = 20\n",
        "jurusan = \"teknik elektro\"\n",
        "prodi = \"RPE\"\n",
        "semester = 3\n",
        "nomor_telepon = \"082166733775\"\n",
        "\n",
        "# List\n",
        "matakuliah = [\"Pemrograman Dasar\", \"Matematika Teknik\", \"Termodinamika\"]\n",
        "\n",
        "# Tuple\n",
        "tempat_tanggallahir = (\"22 Januari 2005\", \"Sungai Pimping\")\n",
        "\n",
        "# Set\n",
        "hobi = {\"Membaca\", \"Menulis\", \"tidur\"}\n",
        "\n",
        "print (\"- Biodata Saya -\")\n",
        "print (\"nama                  :\",nama)\n",
        "print (\"nim                   :\",nim)\n",
        "print (\"tempat_tanggallahir   :\",tempat_tanggallahir)\n",
        "print (\"umur                  :\",umur)\n",
        "print (\"jurusan               :\",jurusan)\n",
        "print (\"prodi                 :\",prodi)\n",
        "print (\"semester              :\",semester)\n",
        "print (\"matakuliah            :\",matakuliah)\n",
        "print (\"nomor_telepon         :\",nomor_telepon)\n",
        "print (\"hobi                  :\",hobi)\n",
        "\n",
        "\n"
      ]
    },
    {
      "cell_type": "code",
      "source": [
        "# Program Biodata dengan Type Annotation\n",
        "\n",
        "nama: str = \"Nurmalia\"\n",
        "nim: int = 4232401014\n",
        "tempat_lahir: str = \"sungai pimping\"\n",
        "tanggal_lahir: str = \"22 Januari 2005\"\n",
        "umur: int = 20\n",
        "jurusan: str = \"teknik elektro\"\n",
        "prodi: str = \"RPE\"\n",
        "semester: int = 3\n",
        "matakuliah: str = \"Pemrograman Dasar\"\n",
        "nomor_telepon: str = \"082166737775\"\n",
        "status_lulus: bool = False\n",
        "\n",
        "print(\"- Biodata Saya -\")\n",
        "print(\"nama          :\", nama)\n",
        "print(\"nim           :\", nim)\n",
        "print(\"tempat_lahir  :\", tempat_lahir)\n",
        "print(\"tanggal_lahir :\", tanggal_lahir)\n",
        "print(\"umur          :\", umur)\n",
        "print(\"jurusan       :\", jurusan)\n",
        "print(\"prodi         :\", prodi)\n",
        "print(\"semester      :\", semester)\n",
        "print(\"matakuliah    :\", matakuliah)\n",
        "print(\"nomor_telepon :\", nomor_telepon)\n",
        "print(\"status_lulus  :\", status_lulus)\n"
      ],
      "metadata": {
        "colab": {
          "base_uri": "https://localhost:8080/"
        },
        "id": "hmhkfDLHaMH4",
        "outputId": "4dc90229-a7fc-45e4-cdc8-77884ecf0ab7"
      },
      "execution_count": 1,
      "outputs": [
        {
          "output_type": "stream",
          "name": "stdout",
          "text": [
            "- Biodata Saya -\n",
            "nama          : Nurmalia\n",
            "nim           : 4232401014\n",
            "tempat_lahir  : sungai pimpin\n",
            "tanggal_lahir : 22 Januari 2005\n",
            "umur          : 20\n",
            "jurusan       : teknik elektro\n",
            "prodi         : RPE\n",
            "semester      : 3\n",
            "matakuliah    : Pemrograman Dasar\n",
            "nomor_telepon : 082166737775\n",
            "status_lulus  : False\n"
          ]
        }
      ]
    }
  ]
}