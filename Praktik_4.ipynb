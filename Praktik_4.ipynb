{
  "nbformat": 4,
  "nbformat_minor": 0,
  "metadata": {
    "colab": {
      "provenance": [],
      "authorship_tag": "ABX9TyPaFoQ59N19Tn1Hj500nXWI",
      "include_colab_link": true
    },
    "kernelspec": {
      "name": "python3",
      "display_name": "Python 3"
    },
    "language_info": {
      "name": "python"
    }
  },
  "cells": [
    {
      "cell_type": "markdown",
      "metadata": {
        "id": "view-in-github",
        "colab_type": "text"
      },
      "source": [
        "<a href=\"https://colab.research.google.com/github/Nurmalia-4232401014/Pemerograman-Dasar/blob/main/Praktik_4.ipynb\" target=\"_parent\"><img src=\"https://colab.research.google.com/assets/colab-badge.svg\" alt=\"Open In Colab\"/></a>"
      ]
    },
    {
      "cell_type": "code",
      "source": [
        "umur: int = 19\n",
        "if umur > 17:\n",
        "  print(\"pengunjung adalah orang dewasa\")"
      ],
      "metadata": {
        "colab": {
          "base_uri": "https://localhost:8080/"
        },
        "id": "uxDAyJKoidAy",
        "outputId": "089d3039-8556-42f7-abaa-747d19af1d97"
      },
      "execution_count": null,
      "outputs": [
        {
          "output_type": "stream",
          "name": "stdout",
          "text": [
            "pengunjung adalah orang dewasa\n"
          ]
        }
      ]
    },
    {
      "cell_type": "code",
      "source": [
        "username = input(\"masukkan username: \")\n",
        "password = input(\"masukkan password: \")\n",
        "\n",
        "if username == \"Nurmalia\" and password == \"2230\":\n",
        "  print(\"login berhasil\")\n",
        "else:\n",
        "  print(\"login gagal\")"
      ],
      "metadata": {
        "colab": {
          "base_uri": "https://localhost:8080/"
        },
        "id": "lmPu7vO6jFsG",
        "outputId": "12de2133-2ede-461e-9abc-2b97d3c64c6f"
      },
      "execution_count": null,
      "outputs": [
        {
          "output_type": "stream",
          "name": "stdout",
          "text": [
            "masukkan username: Nurmalia\n",
            "masukkan password: 2230\n",
            "login berhasil\n"
          ]
        }
      ]
    },
    {
      "cell_type": "code",
      "source": [
        "total_belanja = input(\"Total belanja: Rp\")\n",
        "bayar = int(total_belanja)\n",
        "if int(total_belanja) > 200000:\n",
        "  print(\"selamat karena belanja > Rp. 200.000 anda mendapat voucher Makan\")\n",
        "  print(\"dan diskon 5% \")\n",
        "  diskon = int(total_belanja) * 5/100\n",
        "  bayar = int(total_belanja) - diskon\n",
        "  print(\"Total yang harus dibayar: Rp %s\" % bayar)\n",
        "  print(\"terimakasih sudah berbelanja di Toko kami\")\n",
        "  print(\"kami tunggu kunjungan  anda selanjutnya\")"
      ],
      "metadata": {
        "colab": {
          "base_uri": "https://localhost:8080/"
        },
        "id": "CFOrMsEPkXL0",
        "outputId": "086d0510-4a81-4b2d-91b5-07e95c051a9b"
      },
      "execution_count": null,
      "outputs": [
        {
          "output_type": "stream",
          "name": "stdout",
          "text": [
            "Total belanja: Rp250000\n",
            "selamat karena belanja > Rp. 200.000 anda mendapat voucher Makan  \n",
            "dan diskon 5% \n",
            "Total yang harus dibayar: Rp 237500.0\n",
            "terimakasih sudah berbelanja di Toko kami\n",
            "kami tunggu kunjungan  anda selanjutnya\n"
          ]
        }
      ]
    },
    {
      "cell_type": "code",
      "source": [
        "ada_notifikasi_baru: bool = True\n",
        "if ada_notifikasi_baru:\n",
        "  print(\"anda memiliki pesan baru!\")"
      ],
      "metadata": {
        "colab": {
          "base_uri": "https://localhost:8080/"
        },
        "id": "mcbNt4M-nOIk",
        "outputId": "25c06840-d088-4b12-c1c0-8bcb4888cbda"
      },
      "execution_count": null,
      "outputs": [
        {
          "output_type": "stream",
          "name": "stdout",
          "text": [
            "anda memiliki pesan baru!\n"
          ]
        }
      ]
    },
    {
      "cell_type": "code",
      "source": [
        "# Percabagan Ganda\n",
        "umur = input(\"Berapa umur kamu: \")\n",
        "if int(umur) >= 17:\n",
        "  print(\"kamu boleh membuat KTP\")\n",
        "else:\n",
        "  print(\"kamu boleh membuat KTP\")"
      ],
      "metadata": {
        "colab": {
          "base_uri": "https://localhost:8080/"
        },
        "id": "85kZ0ZBpn1B0",
        "outputId": "4eecb287-c21b-4a44-87ca-2a29ccee1de2"
      },
      "execution_count": null,
      "outputs": [
        {
          "output_type": "stream",
          "name": "stdout",
          "text": [
            "Berapa umur kamu: 19\n",
            "kamu boleh membuat KTP\n"
          ]
        }
      ]
    },
    {
      "cell_type": "code",
      "source": [
        "total_belanja = 250000\n",
        "if total_belanja > 200000:\n",
        "  diskon = total_belanja * 0.10\n",
        "  total_bayar = total_belanja - diskon\n",
        "  print(f\"anda mendapat diskon! Total bayar Rp {total_bayar}\" )\n",
        "else:\n",
        "  print(f\"total bayar:  Rp {total_belanja}\")"
      ],
      "metadata": {
        "colab": {
          "base_uri": "https://localhost:8080/"
        },
        "id": "5p2IqpotocvV",
        "outputId": "b8b0d432-ac0c-4324-ef0f-ef56c96d8e25"
      },
      "execution_count": null,
      "outputs": [
        {
          "output_type": "stream",
          "name": "stdout",
          "text": [
            "anda mendapat diskon! Total bayar Rp 225000.0\n"
          ]
        }
      ]
    },
    {
      "cell_type": "code",
      "source": [
        "angka = int(input(\"Masukkan bilangan:\"))\n",
        "if angka % 2 == 0:\n",
        "  print(\"bilangan genap\")\n",
        "else:\n",
        "  print(\"bilangan ganjil\")"
      ],
      "metadata": {
        "colab": {
          "base_uri": "https://localhost:8080/"
        },
        "id": "S-xtvB0kp5fa",
        "outputId": "de010af8-617b-4206-b318-0ae52b4e46cb"
      },
      "execution_count": null,
      "outputs": [
        {
          "output_type": "stream",
          "name": "stdout",
          "text": [
            "Masukkan bilangan:4\n",
            "bilangan genap\n"
          ]
        }
      ]
    },
    {
      "cell_type": "code",
      "source": [
        "nilai = 90\n",
        "if nilai >= 85:\n",
        "  print(\"Luar biasa!  Nilai A\")\n",
        "elif nilai >= 70:\n",
        "  print(\"Bagus! Nilai B\")\n",
        "elif nilai >= 60:\n",
        "  print(\"Cukup. Nilai C\")\n",
        "else:\n",
        "  print(\"Nilai kurang, Perlu lebih giat lagi.\")"
      ],
      "metadata": {
        "colab": {
          "base_uri": "https://localhost:8080/"
        },
        "id": "YEIf03KSqe_h",
        "outputId": "fbbe3e72-8e96-429b-cba5-6b692b214c78"
      },
      "execution_count": null,
      "outputs": [
        {
          "output_type": "stream",
          "name": "stdout",
          "text": [
            "Luar biasa!  Nilai A\n"
          ]
        }
      ]
    },
    {
      "cell_type": "code",
      "source": [
        "hari: str = \"rabu\"\n",
        "if hari == \"minggu\" or hari == \"Senin\":\n",
        "  diskon: float = 0.10\n",
        "  print(f\"Selamat! Anda mendapat diskon akhir pekan sebesar {diskon*100}%,\")\n",
        "elif hari == \"kamis\":\n",
        "  diskon: float = 0.15\n",
        "  print(f\"Diskon spesial Kamis! anda mendapat potongan {diskon*100}%.\")\n",
        "else:\n",
        "  diskon: float = 0.05\n",
        "  print(f\"Anda mendapat diskon hari biasa sebesar {diskon*100}%.\")\n"
      ],
      "metadata": {
        "colab": {
          "base_uri": "https://localhost:8080/"
        },
        "id": "VC4EcN1XrX7F",
        "outputId": "2113c99a-1181-41de-a3f2-6386cc74aadd"
      },
      "execution_count": null,
      "outputs": [
        {
          "output_type": "stream",
          "name": "stdout",
          "text": [
            "Anda mendapat diskon hari biasa sebesar 5.0%.\n"
          ]
        }
      ]
    },
    {
      "cell_type": "code",
      "source": [
        "rupiah = int(input(\"Masukkan jumlah uang (Rp):  \"))\n",
        "print(\"1. Dollar (USD)\")\n",
        "print(\"2. Euro (EUR)\")\n",
        "print(\"3. Yen (JPY)\")\n",
        "pilih = int(input(\"Pilih konversi (1/2/3):  \"))\n",
        "\n",
        "if pilih == 1:\n",
        "  print(\"Dalam Dollar:\", rupiah / 15000)\n",
        "elif pilih == 2:\n",
        "  print(\"Dalam Euro  :\", rupiah / 16000)\n",
        "elif pilih == 3:\n",
        "  print(\"Dalam Yen   :\", rupiah / 120)\n",
        "else:\n",
        "  print(\"Pilihan yang tidak valid\")\n"
      ],
      "metadata": {
        "colab": {
          "base_uri": "https://localhost:8080/"
        },
        "id": "EG9WeGZutIq0",
        "outputId": "894d18ae-5524-4106-e522-bb420978b472"
      },
      "execution_count": null,
      "outputs": [
        {
          "output_type": "stream",
          "name": "stdout",
          "text": [
            "Masukkan jumlah uang (Rp):  50000\n",
            "1. Dollar (USD)\n",
            "2. Euro (EUR)\n",
            "3. Yen (JPY)\n",
            "Pilih konversi (1/2/3):  1\n",
            "Dalam Dollar: 3.3333333333333335\n"
          ]
        }
      ]
    }
  ]
}