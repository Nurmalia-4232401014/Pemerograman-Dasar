{
  "nbformat": 4,
  "nbformat_minor": 0,
  "metadata": {
    "colab": {
      "provenance": [],
      "authorship_tag": "ABX9TyO9dhSsek3ANzVFTxveL3H/",
      "include_colab_link": true
    },
    "kernelspec": {
      "name": "python3",
      "display_name": "Python 3"
    },
    "language_info": {
      "name": "python"
    }
  },
  "cells": [
    {
      "cell_type": "markdown",
      "metadata": {
        "id": "view-in-github",
        "colab_type": "text"
      },
      "source": [
        "<a href=\"https://colab.research.google.com/github/Nurmalia-4232401014/Pemerograman-Dasar/blob/main/Latihan_3.ipynb\" target=\"_parent\"><img src=\"https://colab.research.google.com/assets/colab-badge.svg\" alt=\"Open In Colab\"/></a>"
      ]
    },
    {
      "cell_type": "code",
      "execution_count": null,
      "metadata": {
        "colab": {
          "base_uri": "https://localhost:8080/"
        },
        "id": "MY_GfhJcnsvI",
        "outputId": "d7d39408-b42b-4c4a-9d45-c224996aa954"
      },
      "outputs": [
        {
          "output_type": "stream",
          "name": "stdout",
          "text": [
            "masukkan tahun: 2024\n",
            "2024 adalah tahun kabisat = True\n",
            "masukkan tahun: 2022\n",
            "2022 adalah tahun kabisat = False\n"
          ]
        }
      ],
      "source": [
        "# Menentukan Tahun Kabisat\n",
        "tahun = int(input(\"masukkan tahun: \"))\n",
        "kabisat = (tahun % 4 == 0 and tahun % 100 !=0) or (tahun % 400 == 0)\n",
        "print(tahun,\"adalah tahun kabisat =\", kabisat)\n",
        "\n",
        "tahun = int(input(\"masukkan tahun: \"))\n",
        "kabisat = (tahun % 4 == 0 and tahun % 100 !=0) or (tahun % 400 == 0)\n",
        "print(tahun,\"adalah tahun kabisat =\", kabisat)"
      ]
    },
    {
      "cell_type": "code",
      "source": [],
      "metadata": {
        "id": "otOvcBx9M6_L"
      },
      "execution_count": null,
      "outputs": []
    },
    {
      "cell_type": "code",
      "source": [
        "# Program sederhana fungsi input,output,dan aritmatika\n",
        "\n",
        "# Fungsi Input\n",
        "dimsum_mentai = int(input(\"dimsum mentai: \"))\n",
        "jumlah = int(input(\"jumlah beli: \"))\n",
        "\n",
        "# Operasi Aritmatika\n",
        "total = (dimsum_mentai * jumlah)\n",
        "\n",
        "# Fungsi Output\n",
        "print(\"harga 2 porsi dimsum mentai  = \", total)"
      ],
      "metadata": {
        "colab": {
          "base_uri": "https://localhost:8080/"
        },
        "id": "FbaKOM66pb_Z",
        "outputId": "932787de-77b5-4571-9efe-9844a2cb1cfa"
      },
      "execution_count": null,
      "outputs": [
        {
          "output_type": "stream",
          "name": "stdout",
          "text": [
            "dimsum mentai: 15000\n",
            "jumlah beli: 2\n",
            "harga 2 porsi dimsum mentai  =  30000\n"
          ]
        }
      ]
    }
  ]
}