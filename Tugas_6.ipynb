{
  "nbformat": 4,
  "nbformat_minor": 0,
  "metadata": {
    "colab": {
      "provenance": [],
      "authorship_tag": "ABX9TyOeLYBJVRsEvsB+gm+kO6d5",
      "include_colab_link": true
    },
    "kernelspec": {
      "name": "python3",
      "display_name": "Python 3"
    },
    "language_info": {
      "name": "python"
    }
  },
  "cells": [
    {
      "cell_type": "markdown",
      "metadata": {
        "id": "view-in-github",
        "colab_type": "text"
      },
      "source": [
        "<a href=\"https://colab.research.google.com/github/Nurmalia-4232401014/Pemerograman-Dasar/blob/main/Tugas_6.ipynb\" target=\"_parent\"><img src=\"https://colab.research.google.com/assets/colab-badge.svg\" alt=\"Open In Colab\"/></a>"
      ]
    },
    {
      "cell_type": "code",
      "execution_count": 3,
      "metadata": {
        "colab": {
          "base_uri": "https://localhost:8080/"
        },
        "id": "wUpt4Yu7e-3n",
        "outputId": "072dc632-6959-44b3-8cca-1e3b35ab5874"
      },
      "outputs": [
        {
          "output_type": "stream",
          "name": "stdout",
          "text": [
            "=== Pemesanan Tiket Bioskop ===\n",
            "Masukkan nama pembeli: Liya\n",
            "Masukkan umur: 19\n",
            "Apakah punya kartu member? (ya/tidak): ya\n",
            "Daftar Film:\n",
            "1. Action - Rp50000\n",
            "2. Komedi - Rp40000\n",
            "3. Horor - Rp45000\n",
            "4. Romansa - Rp35000\n",
            "Pilih nomor film (1-4): 3\n",
            "Nama: Liya\n",
            "Film: Horor\n",
            "Status: Member\n",
            "Total bayar: Rp40500.0\n",
            "Kursi tersedia: {'A5', 'A2', 'A1', 'A4', 'A3'}\n",
            "Pilih kursi : A4\n",
            "Kursi A4 berhasil dipesan! Selamat menonton, Liya!\n"
          ]
        }
      ],
      "source": [
        "print(\"=== Pemesanan Tiket Bioskop ===\")\n",
        "\n",
        "nama = input(\"Masukkan nama pembeli: \")\n",
        "umur = int(input(\"Masukkan umur: \"))\n",
        "member = input(\"Apakah punya kartu member? (ya/tidak): \")\n",
        "is_member = True if member.lower() == \"ya\" else False\n",
        "\n",
        "\n",
        "film = [\"Action\", \"Komedi\", \"Horor\", \"Romansa\"]\n",
        "harga_tiket = (50000, 40000, 45000, 35000)\n",
        "diskon = {\"member\": 0.1, \"non_member\": 0.0}\n",
        "kursi_tersedia = {\"A1\", \"A2\", \"A3\", \"A4\", \"A5\"}\n",
        "\n",
        "# Tampilkan pilihan film\n",
        "print(\"Daftar Film:\")\n",
        "for i in range(len(film)):\n",
        "    print(f\"{i+1}. {film[i]} - Rp{harga_tiket[i]}\")\n",
        "\n",
        "# Pilihan film\n",
        "pilihan = int(input(\"Pilih nomor film (1-4): \"))\n",
        "harga = harga_tiket[pilihan - 1]\n",
        "\n",
        "# Percabangan\n",
        "if is_member:\n",
        "    potongan = harga * diskon[\"member\"]\n",
        "    status = \"Member\"\n",
        "elif umur < 18 and film[pilihan - 1] == \"Horor\":\n",
        "    print(\"Maaf, umur kamu belum cukup untuk menonton film horor.\")\n",
        "    potongan = 0\n",
        "    status = \"Tidak memenuhi syarat\"\n",
        "else:\n",
        "    potongan = harga * diskon[\"non_member\"]\n",
        "    status = \"Non-member\"\n",
        "\n",
        "# Hasil pembayaran\n",
        "total = harga - potongan\n",
        "print(f\"Nama: {nama}\")\n",
        "print(f\"Film: {film[pilihan - 1]}\")\n",
        "print(f\"Status: {status}\")\n",
        "print(f\"Total bayar: Rp{total}\")\n",
        "\n",
        "# Pilih kursi\n",
        "print(\"Kursi tersedia:\", kursi_tersedia)\n",
        "while True:\n",
        "    kursi = input(\"Pilih kursi : \")\n",
        "    if kursi in kursi_tersedia:\n",
        "        print(f\"Kursi {kursi} berhasil dipesan! Selamat menonton, {nama}!\")\n",
        "        kursi_tersedia.remove(kursi)\n",
        "        break\n",
        "    else:\n",
        "        print(\"Kursi tidak tersedia, pilih kursi lain.\")\n"
      ]
    },
    {
      "cell_type": "code",
      "source": [],
      "metadata": {
        "id": "bh_FBNIlgAW4"
      },
      "execution_count": null,
      "outputs": []
    }
  ]
}