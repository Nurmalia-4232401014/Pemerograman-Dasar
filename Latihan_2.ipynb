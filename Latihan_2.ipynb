{
  "nbformat": 4,
  "nbformat_minor": 0,
  "metadata": {
    "colab": {
      "provenance": [],
      "authorship_tag": "ABX9TyNpANm99ImOWANxxwsijZ+8",
      "include_colab_link": true
    },
    "kernelspec": {
      "name": "python3",
      "display_name": "Python 3"
    },
    "language_info": {
      "name": "python"
    }
  },
  "cells": [
    {
      "cell_type": "markdown",
      "metadata": {
        "id": "view-in-github",
        "colab_type": "text"
      },
      "source": [
        "<a href=\"https://colab.research.google.com/github/Nurmalia-4232401014/Pemerograman-Dasar/blob/main/Latihan_2.ipynb\" target=\"_parent\"><img src=\"https://colab.research.google.com/assets/colab-badge.svg\" alt=\"Open In Colab\"/></a>"
      ]
    },
    {
      "cell_type": "code",
      "execution_count": null,
      "metadata": {
        "colab": {
          "base_uri": "https://localhost:8080/"
        },
        "id": "pznwUh228jMn",
        "outputId": "a8020d93-818d-4847-c5aa-96119c8095a8"
      },
      "outputs": [
        {
          "output_type": "stream",
          "name": "stdout",
          "text": [
            "23\n",
            "43\n",
            "25\n",
            "34\n"
          ]
        }
      ],
      "source": [
        "# -Tipe data List-\n",
        "\n",
        "# Deklarasi Variabel List\n",
        "numbers = [23, 43, 25, 34]\n",
        "# Cara Mengakses Elemen dalam Variabel List\n",
        "numbers[0]  #23\n",
        "numbers[1]  #43\n",
        "numbers[2]  #25\n",
        "numbers[3]  #34\n",
        "# Cara Mengubah Nilai Elemen dalam Variabel List\n",
        "numbers[2]  #51\n",
        "numbers[2]  #51\n",
        "\n",
        "print (numbers[0])\n",
        "print (numbers[1])\n",
        "print (numbers[2])\n",
        "print (numbers[3])\n"
      ]
    },
    {
      "cell_type": "code",
      "source": [
        "# Deklarasi Variabel Liat Number\n",
        "numbers = [1, 2, 3]\n",
        "\n",
        "# Menambahkan Elemen di Indeks ke-4\n",
        "numbers.insert(4, 5)  # [1, 2, 3, 5]\n",
        "\n",
        "#  Mengubah Elemen di Indeks ke-4\n",
        "numbers[3] = 4  # [1, 2, 3, 4]\n",
        "\n",
        "#  Menghapus Elemen di Indeks ke-4\n",
        "numbers.pop(2) # [1, 2, 4]\n",
        "\n",
        "print (numbers)\n",
        "print (numbers[0])\n",
        "print (numbers[1])\n",
        "print (numbers[2])"
      ],
      "metadata": {
        "colab": {
          "base_uri": "https://localhost:8080/"
        },
        "id": "HC_vuxf9A68O",
        "outputId": "9e01e266-25c3-4dd2-bf19-1c41deab4cdb"
      },
      "execution_count": null,
      "outputs": [
        {
          "output_type": "stream",
          "name": "stdout",
          "text": [
            "[1, 2, 4]\n",
            "1\n",
            "2\n",
            "4\n"
          ]
        }
      ]
    },
    {
      "cell_type": "code",
      "source": [
        "# Deklarasi Variabel List\n",
        "myList = [1, \"Rumah\", 4.5, True, [\"Kamar mandi\", \"Kamar Tidur\"]]\n",
        "\n",
        "# Cara mengakses elemen dalam variabel list\n",
        "myList[0]\n",
        "myList[1]\n",
        "myList[3]\n",
        "myList[4]\n",
        "\n",
        "# Cara memngakses elemen dalam sublist\n",
        "myList[4][0]\n",
        "myList[4][1]\n",
        "\n",
        "print (myList[0])\n",
        "print (myList[1])\n",
        "print (myList[3])\n",
        "print (myList[4])\n",
        "print (myList[4][0])\n",
        "print (myList[4][1])"
      ],
      "metadata": {
        "id": "zeMnWRPgE4uj",
        "colab": {
          "base_uri": "https://localhost:8080/"
        },
        "outputId": "e66b1cc7-afe5-43bf-e449-cc0a981cfdaa"
      },
      "execution_count": 2,
      "outputs": [
        {
          "output_type": "stream",
          "name": "stdout",
          "text": [
            "1\n",
            "Rumah\n",
            "True\n",
            "['Kamar mandi', 'Kamar Tidur']\n",
            "Kamar mandi\n",
            "Kamar Tidur\n"
          ]
        }
      ]
    },
    {
      "cell_type": "code",
      "source": [
        "# Deklarasi variabel tuple\n",
        "numbers = (23, 43, 15, 34)\n",
        "\n",
        "# Cara mengakses elemen dalam variabel tuple\n",
        "numbers[0]\n",
        "numbers[1]\n",
        "numbers[2]\n",
        "\n",
        "print (numbers[0])\n",
        "print (numbers[1])\n",
        "print (numbers[2])"
      ],
      "metadata": {
        "colab": {
          "base_uri": "https://localhost:8080/"
        },
        "id": "1LEdIbe7-uJW",
        "outputId": "bd66d483-e840-4eae-a0d4-78d2eadb1507"
      },
      "execution_count": 3,
      "outputs": [
        {
          "output_type": "stream",
          "name": "stdout",
          "text": [
            "23\n",
            "43\n",
            "15\n"
          ]
        }
      ]
    },
    {
      "cell_type": "code",
      "source": [
        "# Deklarasi variabel set a dan b\n",
        "a = {1, 2, 3}\n",
        "b = {2, 3, 4}\n",
        "\n",
        "# Operasi gabungan\n",
        "a.union(b)\n",
        "\n",
        "# operasi irisan\n",
        "a.intersection(b)\n",
        "\n",
        "# operasi perbedaan\n",
        "a.symmetric_difference(b)\n",
        "\n",
        "print (a.union(b))\n",
        "print (a.intersection(b))\n",
        "print (a.symmetric_difference(b))"
      ],
      "metadata": {
        "colab": {
          "base_uri": "https://localhost:8080/"
        },
        "id": "YXRza31H_Wl-",
        "outputId": "8d2d71b4-2d3e-4e9f-a47c-0c58ca095c48"
      },
      "execution_count": 4,
      "outputs": [
        {
          "output_type": "stream",
          "name": "stdout",
          "text": [
            "{1, 2, 3, 4}\n",
            "{2, 3}\n",
            "{1, 4}\n"
          ]
        }
      ]
    },
    {
      "cell_type": "code",
      "source": [
        "# Deklarasi variabel dictonary\n",
        "propertydetail = {\"numfloors\": 1, \"propertytype\": \"rumah\", \"hasterrace\": True,\n",
        "                  \"hasgarage\": False}\n",
        "\n",
        "# cara mengakses elemen dalam varibel dictonary\n",
        "propertydetail[\"numfloors\"]\n",
        "propertydetail[\"propertytype\"]\n",
        "propertydetail[\"hasterrace\"]\n",
        "propertydetail[\"hasgarage\"]\n",
        "\n",
        "# cara mengubah nilai elemen dalam varibel dictonary\n",
        "propertydetail[\"hasterrace\"] = False\n",
        "\n",
        "print (propertydetail[\"numfloors\"])\n",
        "print (propertydetail[\"propertytype\"])\n",
        "print (propertydetail[\"hasterrace\"])\n",
        "print (propertydetail[\"hasgarage\"])\n"
      ],
      "metadata": {
        "colab": {
          "base_uri": "https://localhost:8080/"
        },
        "id": "NgFWePwMAkKs",
        "outputId": "300b1f28-07f7-4017-9902-023bc87745bf"
      },
      "execution_count": 7,
      "outputs": [
        {
          "output_type": "stream",
          "name": "stdout",
          "text": [
            "1\n",
            "rumah\n",
            "False\n",
            "False\n"
          ]
        }
      ]
    },
    {
      "cell_type": "code",
      "source": [],
      "metadata": {
        "id": "M5Ag1rbBDxV7"
      },
      "execution_count": null,
      "outputs": []
    }
  ]
}